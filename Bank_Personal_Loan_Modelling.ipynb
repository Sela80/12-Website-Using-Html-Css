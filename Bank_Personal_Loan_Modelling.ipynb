{
  "nbformat": 4,
  "nbformat_minor": 0,
  "metadata": {
    "colab": {
      "private_outputs": true,
      "provenance": [],
      "authorship_tag": "ABX9TyMJaixaqLEWyWkNwce2UgQ/",
      "include_colab_link": true
    },
    "kernelspec": {
      "name": "python3",
      "display_name": "Python 3"
    },
    "language_info": {
      "name": "python"
    }
  },
  "cells": [
    {
      "cell_type": "markdown",
      "metadata": {
        "id": "view-in-github",
        "colab_type": "text"
      },
      "source": [
        "<a href=\"https://colab.research.google.com/github/Sela80/12-Website-Using-Html-Css/blob/master/Bank_Personal_Loan_Modelling.ipynb\" target=\"_parent\"><img src=\"https://colab.research.google.com/assets/colab-badge.svg\" alt=\"Open In Colab\"/></a>"
      ]
    },
    {
      "cell_type": "markdown",
      "source": [
        "À propos de ce fichier\n",
        "\n",
        "Ajouter une suggestion\n",
        "Informations sur les attributs :\n",
        "\n",
        "1. ID : ID client\n",
        "\n",
        "2. Âge : Âge du client en années révolues\n",
        "\n",
        "3. Expérience : années d'expérience professionnelle\n",
        "\n",
        "4. Revenu : Revenu annuel du client (000 $)\n",
        "\n",
        "5. Code postal : Code postal de l'adresse du domicile.\n",
        "\n",
        "6. Famille : Taille de la famille du client\n",
        "\n",
        "7. CCAvg : Dépenses moyennes par mois sur les cartes de crédit (000 $)\n",
        "\n",
        "8. Éducation : Niveau d'éducation.\n",
        "1 : Premier cycle ;\n",
        "2 : Deuxième cycle ;\n",
        "3 : Avancé/Professionnel\n",
        "\n",
        "9. Hypothèque : Valeur de l'hypothèque de la maison, le cas échéant. (000 $)\n",
        "\n",
        "10. Prêt personnel : Ce client a-t-il accepté le prêt personnel proposé lors de la dernière campagne ?\n",
        "\n",
        "11. Compte-titres : Le client possède-t-il un compte-titres auprès de la banque ?\n",
        "\n",
        "12. Compte CD : Le client possède-t-il un compte de certificat de dépôt (CD) auprès de la banque ?\n",
        "\n",
        "13. En ligne : Le client utilise-t-il des services bancaires en ligne ?\n",
        "\n",
        "14. Carte de crédit : Le client utilise-t-il une carte de crédit émise par"
      ],
      "metadata": {
        "id": "xyn9alNWGk85"
      }
    },
    {
      "cell_type": "markdown",
      "source": [
        "**Objectif :**\n",
        "\n",
        "**L’objectif de la classification est de prédire la probabilité qu’un client passif achète des prêts personnels.**"
      ],
      "metadata": {
        "id": "X8ghzvS8QNMt"
      }
    },
    {
      "cell_type": "markdown",
      "source": [
        "1.   Importation des bibliothèques nécessaires\n"
      ],
      "metadata": {
        "id": "uWT5HfL4CrYm"
      }
    },
    {
      "cell_type": "code",
      "execution_count": null,
      "metadata": {
        "id": "OmA4eZmMu9vF"
      },
      "outputs": [],
      "source": [
        "import numpy as np\n",
        "import pandas as pd\n",
        "import matplotlib.pyplot as plt\n",
        "import seaborn as sns\n",
        "import plotly.express as px"
      ]
    },
    {
      "cell_type": "markdown",
      "source": [
        "\n",
        "\n",
        "2.   Chargement des données\n",
        "\n"
      ],
      "metadata": {
        "id": "MDTKKALcC1Jl"
      }
    },
    {
      "cell_type": "code",
      "source": [
        "Data=pd.read_csv(\"/content/Bank_Personal_Loan_Modelling.csv\")\n",
        "Data.head()"
      ],
      "metadata": {
        "id": "tKYDWVK1ROBK"
      },
      "execution_count": null,
      "outputs": []
    },
    {
      "cell_type": "code",
      "source": [
        "data=Data.copy()\n",
        "data.head()"
      ],
      "metadata": {
        "id": "P0Obz5FiXzDk"
      },
      "execution_count": null,
      "outputs": []
    },
    {
      "cell_type": "markdown",
      "source": [
        "Certainnes de nos variables doivent Categorielles tandis qu'elles sont toutes numériques. Donc on doit les mettre au format respectifs"
      ],
      "metadata": {
        "id": "0MogNHXBYZFb"
      }
    },
    {
      "cell_type": "code",
      "source": [
        "# Remplacement des valeurs dans les colonnes spécifiées\n",
        "data['Education'] = data['Education'].replace({1: 'Premier cycle', 2: 'Deuxième cycle', 3: 'Avancé/Professionnel'})\n",
        "data['Personal Loan'] = data['Personal Loan'].replace({0: 'Non', 1: 'Oui'})\n",
        "data['Online'] = data['Online'].replace({0: 'Non', 1: 'Oui'})\n",
        "data['CD Account'] = data['CD Account'].replace({0: 'Non', 1: 'Oui'})\n",
        "data['Securities Account'] = data['Securities Account'].replace({0: 'Non', 1: 'Oui'})\n",
        "data.head()"
      ],
      "metadata": {
        "id": "sFgV8O7BY-Qz"
      },
      "execution_count": null,
      "outputs": []
    },
    {
      "cell_type": "markdown",
      "source": [
        "\n",
        "\n",
        "3. Exploration des données\n",
        "\n"
      ],
      "metadata": {
        "id": "GCxKLe_lC_C0"
      }
    },
    {
      "cell_type": "code",
      "source": [
        "#information sur notre Data\n",
        "Data.info()"
      ],
      "metadata": {
        "id": "thfCUaE0Shbv"
      },
      "execution_count": null,
      "outputs": []
    },
    {
      "cell_type": "code",
      "source": [
        "#checking outliers\n",
        "Data.isnull().sum()"
      ],
      "metadata": {
        "id": "A4lVZJtkTkKP"
      },
      "execution_count": null,
      "outputs": []
    },
    {
      "cell_type": "code",
      "source": [
        "#Doublons\n",
        "Data.duplicated().sum()"
      ],
      "metadata": {
        "id": "tKyDnuwbQ9-0"
      },
      "execution_count": null,
      "outputs": []
    },
    {
      "cell_type": "markdown",
      "source": [
        "\n",
        "\n",
        "4.   Analyse descriptive\n",
        "\n"
      ],
      "metadata": {
        "id": "krOejEPLDKZc"
      }
    },
    {
      "cell_type": "code",
      "source": [
        "#résumé statistique\n",
        "Data.describe().transpose()"
      ],
      "metadata": {
        "id": "eAQgEh7IVJPs"
      },
      "execution_count": null,
      "outputs": []
    },
    {
      "cell_type": "markdown",
      "source": [
        "\n",
        "\n",
        "5.   Nettoyage des données\n",
        "\n"
      ],
      "metadata": {
        "id": "lS3vnUzsDcMk"
      }
    },
    {
      "cell_type": "markdown",
      "source": [
        "**On remarque que notre data ne contienne pas de valeurs manquantes ni de doublons. Donc pas nécessaire de faire le nettoyage**"
      ],
      "metadata": {
        "id": "Xal9ErtvRHy0"
      }
    },
    {
      "cell_type": "markdown",
      "source": [
        "\n",
        "6.  Visualisation des données\n"
      ],
      "metadata": {
        "id": "XFuy9PJtD29b"
      }
    },
    {
      "cell_type": "markdown",
      "source": [
        "6. 1. Univariee"
      ],
      "metadata": {
        "id": "T6pP-LQMVLVP"
      }
    },
    {
      "cell_type": "markdown",
      "source": [
        "**commençons à vérifier l'âge de nos différents clients**"
      ],
      "metadata": {
        "id": "NBwOMx54SSey"
      }
    },
    {
      "cell_type": "code",
      "source": [
        "#Distribution age\n",
        "\n",
        "fig = px.histogram(Data, x=\"Age\", nbins=20, title=\"Distribution de l'âge des clients\")\n",
        "fig.update_layout(bargap=0.2)\n",
        "fig.show()"
      ],
      "metadata": {
        "id": "ECvU4BOjSwr6"
      },
      "execution_count": null,
      "outputs": []
    },
    {
      "cell_type": "markdown",
      "source": [
        "**A travers le graphique, nous constatons qu'une bonne portion de nos clients sont âgés de 50 ans**"
      ],
      "metadata": {
        "id": "lg3ohC8sVleO"
      }
    },
    {
      "cell_type": "code",
      "source": [
        "Distribution_Experience=px.histogram(data, x=\"Experience\", nbins=20, title=\"Distribution de l'expérience des clients\")\n",
        "Distribution_Experience.update_layout(bargap=0.2)\n",
        "Distribution_Experience.show()"
      ],
      "metadata": {
        "id": "dIEHIsZKpTcn"
      },
      "execution_count": null,
      "outputs": []
    },
    {
      "cell_type": "markdown",
      "source": [
        "Plusieurs clients ont une bonne expérience professionnelle"
      ],
      "metadata": {
        "id": "bvHc-JG_0Gyi"
      }
    },
    {
      "cell_type": "markdown",
      "source": [
        "**jetons un coup d'œil dans leurs revenus**"
      ],
      "metadata": {
        "id": "c10xws07w5fG"
      }
    },
    {
      "cell_type": "code",
      "source": [
        "Distribution_income = px.histogram(data, x=\"Income\", nbins=20, title=\"Distribution des revenus des clients\")\n",
        "Distribution_income.update_layout(bargap=0.2)\n",
        "Distribution_income.show()"
      ],
      "metadata": {
        "id": "ZWPCvStlwg__"
      },
      "execution_count": null,
      "outputs": []
    },
    {
      "cell_type": "markdown",
      "source": [
        "**Nous remarquons également que nos clients qui ont un bon taux de revenus sont pas nombreux (Income=200-219; count=18)**"
      ],
      "metadata": {
        "id": "RiQO_hxWwwMm"
      }
    },
    {
      "cell_type": "code",
      "source": [
        "Distribution_Education=px.histogram(data, x=\"Education\", nbins=20, title=\"Distribution des niveaux d'éducation des clients\")\n",
        "Distribution_Education.update_layout(bargap=0.2)\n",
        "Distribution_Education.show()"
      ],
      "metadata": {
        "id": "cdLarz5HiETY"
      },
      "execution_count": null,
      "outputs": []
    },
    {
      "cell_type": "markdown",
      "source": [
        "On remarquons que la plupart des clients de la banque sont en premier cycle (count=2096),Deuxième cycle(count=1403) et Avance/professionnel(count=1501)"
      ],
      "metadata": {
        "id": "glMoGEWmkmvU"
      }
    },
    {
      "cell_type": "markdown",
      "source": [
        "**Prêt personnel :verifions les clients qui ont acceptés le prêt personnel proposé lors de la dernière campagne**"
      ],
      "metadata": {
        "id": "wHOxXpAFqPDO"
      }
    },
    {
      "cell_type": "code",
      "source": [
        "Distribution_Personal_Loan = px.histogram(data, x=\"Personal Loan\", nbins=20, title=\"Distribution des prêts personnels des clients\")\n",
        "Distribution_Personal_Loan.update_layout(bargap=0.2)\n",
        "Distribution_Personal_Loan.show()"
      ],
      "metadata": {
        "id": "TghwIzrHp_tM"
      },
      "execution_count": null,
      "outputs": []
    },
    {
      "cell_type": "markdown",
      "source": [
        "**Nous remarquons qu'une bonne quantité de des clients de la banque ont refusés la proposition de la campagne**\n"
      ],
      "metadata": {
        "id": "y9EWn_MDqbs1"
      }
    },
    {
      "cell_type": "code",
      "source": [
        "Distribution_Securities_Account=px.histogram(data, x=\"Securities Account\", nbins=20, title=\"Distribution  client possède-t-il un compte-titres auprès de la banque\")\n",
        "Distribution_Securities_Account.update_layout(bargap=0.2)\n",
        "Distribution_Securities_Account.show()"
      ],
      "metadata": {
        "id": "e7d4WgjEnZqJ"
      },
      "execution_count": null,
      "outputs": []
    },
    {
      "cell_type": "code",
      "source": [
        "import plotly.express as px\n",
        "\n",
        "Distribution_by_CD_Account = px.histogram(\n",
        "    data,\n",
        "    x=\"CD Account\",\n",
        "    title=\"Distribution  client possède-t-il un compte de certificat de dépôt (CD) auprès de la banque\"\n",
        ")\n",
        "Distribution_by_CD_Account.update_layout(bargap=0.2)\n",
        "Distribution_by_CD_Account.show()"
      ],
      "metadata": {
        "id": "FVgiHO7mrIJF"
      },
      "execution_count": null,
      "outputs": []
    },
    {
      "cell_type": "markdown",
      "source": [
        "**Plusieurs des clients de la banque ne possède de compte sécurisé auprès de la banque. Ceux qui en possède(count=4478) et ceux qui n'en non pas(count=522)**"
      ],
      "metadata": {
        "id": "m8Fi4BuAoWnR"
      }
    },
    {
      "cell_type": "markdown",
      "source": [
        "**Jetons un coup d'œil sur les clients utilisent des services bancaires en ligne**"
      ],
      "metadata": {
        "id": "L8lQlaRixUHV"
      }
    },
    {
      "cell_type": "code",
      "source": [
        "Distribution_Online=px.histogram(data, x=\"Online\", nbins=20, title=\"Distribution  client utilise-t-il des services bancaires en ligne\")\n",
        "Distribution_Online.update_layout(bargap=0.2)\n",
        "Distribution_Online.show()"
      ],
      "metadata": {
        "id": "q72XXs4jxDh2"
      },
      "execution_count": null,
      "outputs": []
    },
    {
      "cell_type": "markdown",
      "source": [
        "Il y a plusieurs de nos clients qui utilisent des services bancaires en ligne."
      ],
      "metadata": {
        "id": "QWntKDksxmw9"
      }
    },
    {
      "cell_type": "code",
      "source": [
        "Distribution_CreditCard = px.pie(\n",
        "    data,\n",
        "    names=\"CreditCard\",  # Changed 'x' to 'names'\n",
        "    title=\"Distribution des clients utilisant une carte de crédit\"\n",
        ")\n",
        "Distribution_CreditCard.update_layout(bargap=0.2)\n",
        "Distribution_CreditCard.show()\n",
        "\n"
      ],
      "metadata": {
        "id": "O7iBk3uTyw3T"
      },
      "execution_count": null,
      "outputs": []
    },
    {
      "cell_type": "markdown",
      "source": [
        "Il y a plus de clients de la banque qui n'utilisent pas la carte de crédits"
      ],
      "metadata": {
        "id": "YQPUKkkazg-z"
      }
    },
    {
      "cell_type": "markdown",
      "source": [
        "**Bivariee**"
      ],
      "metadata": {
        "id": "vUzL3wengP_a"
      }
    },
    {
      "cell_type": "code",
      "source": [
        "plt.figure(figsize=(12, 6))\n",
        "sns.countplot(x='Income', hue='Personal Loan', data=data, order=data['Income'].value_counts().iloc[:10].index)\n",
        "plt.title('Distribution of Personal Loan by Income (Top 10)')\n",
        "plt.xlabel('Income')\n",
        "plt.ylabel('Count')\n",
        "plt.xticks(rotation=45, ha='right')\n",
        "plt.tight_layout()\n",
        "plt.show()"
      ],
      "metadata": {
        "id": "cFvzFk-O6VWL"
      },
      "execution_count": null,
      "outputs": []
    },
    {
      "cell_type": "markdown",
      "source": [
        "A travers nos visualisation Univariee et Bivariee, constations que, plusieurs de la banque n'ont pas une hausse taux de revenus financiers. Ce qui les empêche de faire un certificat de prêt auprès de la banque pour qu'ils veulent un prêt.\n",
        "ce qui justifie le refus de plusieurs lors de la campagne de prêt personnel."
      ],
      "metadata": {
        "id": "evTu2Api69nK"
      }
    },
    {
      "cell_type": "code",
      "source": [
        "# prompt: matrice de colleration de Personal Loan et income\n",
        "\n",
        "import matplotlib.pyplot as plt\n",
        "import seaborn as sns\n",
        "import pandas as pd # Import pandas for data manipulation\n",
        "\n",
        "# Assuming 'data' DataFrame is already loaded as in the provided code\n",
        "\n",
        "# Convert 'Personal Loan' column to numeric if it contains string values like 'Non'\n",
        "# Assuming 'Non' represents 0 and other values (like 'Yes' or 1) represent 1\n",
        "data['Personal Loan'] = pd.to_numeric(data['Personal Loan'].replace({'Non': 0}), errors='coerce')\n",
        "\n",
        "plt.figure(figsize=(8, 6))\n",
        "sns.heatmap(data[['Personal Loan', 'Income']].corr(), annot=True, cmap='coolwarm', fmt=\".2f\")\n",
        "plt.title('Correlation Matrix: Personal Loan vs. Income')\n",
        "plt.show()"
      ],
      "metadata": {
        "id": "l1Yw49DuZKpu"
      },
      "execution_count": null,
      "outputs": []
    },
    {
      "cell_type": "markdown",
      "source": [
        "\n",
        "\n",
        "7.   Préparation des données\n",
        "\n",
        "\n"
      ],
      "metadata": {
        "id": "tWT3zfs7EEzD"
      }
    },
    {
      "cell_type": "code",
      "source": [
        "from sklearn.preprocessing import StandardScaler\n",
        "\n",
        "# Select numerical columns for standardization\n",
        "numerical_cols = ['Age', 'Experience', 'Income', 'CCAvg', 'Mortgage']\n",
        "\n",
        "# Create a StandardScaler object\n",
        "scaler = StandardScaler()\n",
        "\n",
        "# Fit and transform the selected numerical columns\n",
        "Data[numerical_cols] = scaler.fit_transform(Data[numerical_cols])\n",
        "\n",
        "# Display the standardized DataFrame\n",
        "Data.head()"
      ],
      "metadata": {
        "id": "ufLz7G1X-yJl"
      },
      "execution_count": null,
      "outputs": []
    },
    {
      "cell_type": "markdown",
      "source": [
        "\n",
        "\n",
        "8.  Séparation des données en ensembles d'entraînement et de test\n"
      ],
      "metadata": {
        "id": "U_aPBiDjEPMb"
      }
    },
    {
      "cell_type": "code",
      "source": [
        "from sklearn.model_selection import train_test_split\n",
        "\n",
        "# Define features (X) and target variable (y)\n",
        "X = Data.drop('Personal Loan', axis=1)\n",
        "y = Data['Personal Loan']\n",
        "\n",
        "# Split data into training and testing sets\n",
        "X_train, X_test, y_train, y_test = train_test_split(X, y, test_size=0.2, random_state=42) # 80% train, 20% test\n",
        "\n",
        "# Print the shapes of the resulting sets to verify the split\n",
        "print(\"X_train shape:\", X_train.shape)\n",
        "print(\"X_test shape:\", X_test.shape)\n",
        "print(\"y_train shape:\", y_train.shape)\n",
        "print(\"y_test shape:\", y_test.shape)"
      ],
      "metadata": {
        "id": "JZI0nm51_aDM"
      },
      "execution_count": null,
      "outputs": []
    },
    {
      "cell_type": "markdown",
      "source": [
        "\n",
        "\n",
        "9.   Modélisation et Évaluation du modèle\n",
        "\n"
      ],
      "metadata": {
        "id": "8nvalPmtEYcb"
      }
    },
    {
      "cell_type": "code",
      "source": [
        "# Import necessary libraries\n",
        "from sklearn.linear_model import LogisticRegression\n",
        "from sklearn.metrics import accuracy_score, classification_report, confusion_matrix\n",
        "\n",
        "# Initialize and train the Logistic Regression model\n",
        "logreg_model = LogisticRegression(random_state=42)  # You can adjust hyperparameters if needed\n",
        "logreg_model.fit(X_train, y_train)\n",
        "\n",
        "# Make predictions on the test set\n",
        "y_pred = logreg_model.predict(X_test)\n",
        "\n",
        "# Evaluate the model\n",
        "accuracy = accuracy_score(y_test, y_pred)\n",
        "print(f\"Accuracy: {accuracy}\")\n",
        "\n",
        "print(classification_report(y_test, y_pred))\n",
        "\n",
        "conf_matrix = confusion_matrix(y_test, y_pred)\n",
        "print(\"Confusion Matrix:\")\n",
        "conf_matrix\n"
      ],
      "metadata": {
        "id": "V1RzgXuXEhQ5"
      },
      "execution_count": null,
      "outputs": []
    },
    {
      "cell_type": "code",
      "source": [
        "from sklearn.linear_model import LinearRegression\n",
        "\n",
        "# Assuming 'y' is your target variable and 'X' contains your features\n",
        "#  as defined in your existing code:\n",
        "\n",
        "# Initialize the linear regression model\n",
        "linear_model = LinearRegression()\n",
        "\n",
        "# Fit the model to the training data\n",
        "linear_model.fit(X_train, y_train)\n",
        "\n",
        "# Make predictions on the test set\n",
        "y_pred_linear = linear_model.predict(X_test)\n",
        "\n",
        "# Evaluate the linear regression model (example using Mean Squared Error)\n",
        "from sklearn.metrics import mean_squared_error\n",
        "mse = mean_squared_error(y_test, y_pred_linear)\n",
        "print(f\"Mean Squared Error: {mse}\")\n",
        "\n",
        "# You can also use R-squared for evaluation\n",
        "from sklearn.metrics import r2_score\n",
        "r2 = r2_score(y_test, y_pred_linear)\n",
        "print(f\"R-squared: {r2}\")"
      ],
      "metadata": {
        "id": "pWMF_nj3BjCK"
      },
      "execution_count": null,
      "outputs": []
    },
    {
      "cell_type": "code",
      "source": [
        "from sklearn.ensemble import RandomForestClassifier\n",
        "\n",
        "# Initialize and train the RandomForestClassifier model\n",
        "rf_model = RandomForestClassifier(random_state=42)  # You can adjust hyperparameters if needed\n",
        "rf_model.fit(X_train, y_train)\n",
        "\n",
        "# Make predictions on the test set\n",
        "y_pred_rf = rf_model.predict(X_test)\n",
        "\n",
        "# Evaluate the model\n",
        "accuracy_rf = accuracy_score(y_test, y_pred_rf)\n",
        "print(f\"Random Forest Accuracy: {accuracy_rf}\")\n",
        "\n",
        "print(classification_report(y_test, y_pred_rf))\n",
        "\n",
        "conf_matrix_rf = confusion_matrix(y_test, y_pred_rf)\n",
        "print(\"Random Forest Confusion Matrix:\")\n",
        "conf_matrix_rf"
      ],
      "metadata": {
        "id": "ANREhD26B0Da"
      },
      "execution_count": null,
      "outputs": []
    },
    {
      "cell_type": "code",
      "source": [
        "from sklearn.svm import SVC\n",
        "\n",
        "# Initialize and train the SVM model\n",
        "svm_model = SVC(kernel='linear', random_state=42)  # You can adjust the kernel and other hyperparameters\n",
        "svm_model.fit(X_train, y_train)\n",
        "\n",
        "# Make predictions on the test set\n",
        "y_pred_svm = svm_model.predict(X_test)\n",
        "\n",
        "# Evaluate the model\n",
        "accuracy_svm = accuracy_score(y_test, y_pred_svm)\n",
        "print(f\"SVM Accuracy: {accuracy_svm}\")\n",
        "\n",
        "print(classification_report(y_test, y_pred_svm))\n",
        "\n",
        "conf_matrix_svm = confusion_matrix(y_test, y_pred_svm)\n",
        "print(\"SVM Confusion Matrix:\")\n",
        "conf_matrix_svm"
      ],
      "metadata": {
        "id": "FB8CXp7JCDp-"
      },
      "execution_count": null,
      "outputs": []
    },
    {
      "cell_type": "markdown",
      "source": [
        "**Éducation Financière :**\n",
        "\n",
        "Organiser des ateliers et des séminaires sur la gestion financière, l'épargne, et les stratégies d'investissement.\n",
        "\n",
        "Fournir des ressources et des outils en ligne pour aider les clients à mieux comprendre et gérer leurs finances personnelles.\n",
        "\n",
        "**Conseils Personnalisés :**\n",
        "\n",
        "Offrir des sessions de conseil financier individuel pour aider les clients à élaborer des plans financiers personnalisés.\n",
        "\n",
        "Mettre en place des programmes de mentorat pour aider les clients à améliorer leur santé financière à long terme.\n",
        "\n",
        "**Produits Financiers Flexibles :**\n",
        "\n",
        "Créer des produits de prêt adaptés aux besoins des clients à faible revenu ou avec des antécédents de crédit moins favorables.\n",
        "\n",
        "Proposer des prêts à taux d'intérêt réduits ou des conditions de remboursement plus flexibles pour les clients en difficulté.\n",
        "\n",
        "**Programme de Récompenses et d'Incitations :**\n",
        "\n",
        "Mettre en place des programmes de récompenses pour encourager les pratiques financières responsables, comme l'épargne régulière ou le remboursement anticipé des prêts.\n",
        "\n",
        "Offrir des incitations, telles que des réductions de frais ou des taux d'intérêt préférentiels, pour les clients qui atteignent des objectifs financiers spécifiques.\n",
        "\n",
        "**Support pour la Création de Revenus :**\n",
        "\n",
        "Proposer des partenariats avec des entreprises locales pour offrir des opportunités de formation professionnelle et de création de revenus aux clients.\n",
        "\n",
        "Soutenir les initiatives entrepreneuriales des clients en offrant des prêts pour les petites entreprises et des ressources pour le développement de projets.\n",
        "\n",
        "**Amélioration de la Communication et de la Transparence :**\n",
        "\n",
        "Fournir des informations claires et transparentes sur les critères d'éligibilité pour les prêts et les démarches nécessaires pour améliorer leur situation financière.\n",
        "\n",
        "Mettre en place des canaux de communication efficaces pour répondre aux questions et aux préoccupations des clients en temps opportun.\n",
        "\n",
        "En mettant en œuvre ces initiatives, la banque peut non seulement aider ses clients à améliorer leur situation financière, mais aussi renforcer leur confiance et leur fidélité envers l'institution. 📈💪"
      ],
      "metadata": {
        "id": "wK4qoT-nGyUj"
      }
    }
  ]
}